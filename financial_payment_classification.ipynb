{
 "cells": [
  {
   "cell_type": "markdown",
   "id": "01b5c703",
   "metadata": {},
   "source": [
    "# SageMaker Payment Classification \n"
   ]
  },
  {
   "cell_type": "markdown",
   "id": "c2e49281",
   "metadata": {},
   "source": [
    "\n",
    "## Background <a class=\"anchor\" id=\"Background\"></a>\n",
    "\n",
    "This notebook demonstrates how you can train and deploy a machine learning model to classify payment transactions. Enriching financial transactions with the category of the transaction. This can be used as an intermediate step in fraud detection, personalization or anomaly detection. As well as a method to provide end users (e.g. customers at a bank) with an overview of their spending habits. Amazon SageMaker can be used to train and deploy a XGBoost model, as well as the required underlying infrastructure. For this notebook a generated dataset is used where a payment consists of mostly an amount, sender, receiver and timestamp.\n",
    "\n",
    "\n",
    "## Notebook overview <a class=\"anchor\" id=\"Notebook-overview\"></a>\n",
    "\n",
    "This notebook consists of seven parts. First, we import and configure the required libraries. After that we prepare the data used in this example and create the feature store. With the newly created features we create a XGBoost model. An endpoint is created to host this model. We evaluate the performance of the model and end by cleaning up the used resources.\n",
    "\n",
    "## Dataset <a class=\"anchor\" id=\"Dataset\"></a>\n",
    "\n",
    "For this notebook we use a synthetic dataset. This dataset has the following features \n",
    "\n",
    "* __transaction_category__: The category of the transaction, this is one of the next 19 options.\n",
    "\n",
    "               'Uncategorized', 'Entertainment', 'Education',\n",
    "                    'Shopping', 'Personal Care', 'Health and Fitness',\n",
    "             'Food and Dining', 'Gifts and Donations', 'Investments',\n",
    "         'Bills and Utilities', 'Auto and Transport', 'Travel',\n",
    "            'Fees and Charges', 'Business Services', 'Personal Services',\n",
    "                       'Taxes', 'Gambling', 'Home',\n",
    "      'Pension and insurances'\n",
    "\n",
    "\n",
    "* __receiver_id__: an identifier for the receiving party. The identifier consist of 16 numbers.\n",
    "* __sender_id__: an identifier for the sending party. The identifier consist of 16 numbers.\n",
    "* __amount__: the amount which is transferred.\n",
    "* __timestamp__: the timestamp of the transaction in YYYY-MM-DD HH:MM:SS format.\n"
   ]
  },
  {
   "cell_type": "markdown",
   "id": "96ae0a64",
   "metadata": {},
   "source": [
    "## SageMaker"
   ]
  },
  {
   "cell_type": "markdown",
   "id": "0832ea14",
   "metadata": {},
   "source": [
    "\n",
    "### 1. Setup <a class=\"anchor\" id=\"Setup\"></a>\n",
    "\n",
    "Before we start we need to update the sagemaker library.\n",
    "Make sure you have configured the required env variables:\n",
    "* `AWS_ACCESS_KEY_ID`\n",
    "* `AWS_SECRET_ACCESS_KEY`\n",
    "* `AWS_DEFAULT_REGION` (AmazonSageMaker-DefaultRole can be used)"
   ]
  },
  {
   "cell_type": "code",
   "execution_count": null,
   "id": "fff19d6b",
   "metadata": {},
   "outputs": [],
   "source": [
    "# import sys\n",
    "\n",
    "# !{sys.executable} -m pip install --upgrade pip       --quiet # upgrade pip to the latest vesion\n",
    "# !{sys.executable} -m pip install --upgrade sagemaker --quiet # upgrade SageMaker to the latest vesion\n",
    "# !{sys.executable} -m pip install --upgrade mlrun --quiet # upgrade mlrun to the latest vesion\n",
    "# !{sys.executable} -m pip install --upgrade tarsafe --quiet # upgrade tarsafe to the latest vesion\n",
    "# !{sys.executable} -m pip install --upgrade aiobotocore --quiet # upgrade aiobotocore to the latest vesion"
   ]
  },
  {
   "cell_type": "markdown",
   "id": "1b17a94d",
   "metadata": {},
   "source": [
    "Now that we have the latest version we can import the libraries that we'll use in this notebook"
   ]
  },
  {
   "cell_type": "code",
   "execution_count": 45,
   "id": "42c5d6d0",
   "metadata": {},
   "outputs": [],
   "source": [
    "import boto3\n",
    "import sagemaker\n",
    "import time\n",
    "import os\n",
    "\n",
    "from time import sleep\n",
    "from sklearn.metrics import classification_report\n",
    "from sagemaker.feature_store.feature_group import FeatureGroup\n",
    "\n",
    "import pandas as pd\n",
    "import numpy as np"
   ]
  },
  {
   "cell_type": "markdown",
   "id": "3af7c33d",
   "metadata": {},
   "source": [
    "Let's set the session variables to ensure that SageMaker is configured correctly."
   ]
  },
  {
   "cell_type": "code",
   "execution_count": null,
   "id": "c0e4db17",
   "metadata": {},
   "outputs": [],
   "source": [
    "region = sagemaker.Session().boto_region_name\n",
    "sm_client = boto3.client(\"sagemaker\")\n",
    "boto_session = boto3.Session(region_name=region)\n",
    "sagemaker_session = sagemaker.session.Session(boto_session=boto_session, sagemaker_client=sm_client)\n",
    "role = sagemaker.get_execution_role(use_default=True)\n",
    "bucket_prefix = \"payment-classification\"\n",
    "s3_bucket = sagemaker_session.default_bucket()"
   ]
  },
  {
   "cell_type": "markdown",
   "id": "4fe6a975",
   "metadata": {},
   "source": [
    "We define the factorize key which is used to map the '__transaction_category__' to numeric values"
   ]
  },
  {
   "cell_type": "code",
   "execution_count": 12,
   "id": "43946b9f",
   "metadata": {},
   "outputs": [],
   "source": [
    "factorize_key = {\n",
    "    \"Uncategorized\": 0,\n",
    "    \"Entertainment\": 1,\n",
    "    \"Education\": 2,\n",
    "    \"Shopping\": 3,\n",
    "    \"Personal Care\": 4,\n",
    "    \"Health and Fitness\": 5,\n",
    "    \"Food and Dining\": 6,\n",
    "    \"Gifts and Donations\": 7,\n",
    "    \"Investments\": 8,\n",
    "    \"Bills and Utilities\": 9,\n",
    "    \"Auto and Transport\": 10,\n",
    "    \"Travel\": 11,\n",
    "    \"Fees and Charges\": 12,\n",
    "    \"Business Services\": 13,\n",
    "    \"Personal Services\": 14,\n",
    "    \"Taxes\": 15,\n",
    "    \"Gambling\": 16,\n",
    "    \"Home\": 17,\n",
    "    \"Pension and insurances\": 18,\n",
    "}\n",
    "\n",
    "factorize_key = {key: str(value) for key, value in factorize_key.items()}"
   ]
  },
  {
   "cell_type": "markdown",
   "id": "5e3dc3c4",
   "metadata": {},
   "source": [
    "### 2. Data preparation <a class=\"anchor\" id=\"Data-preparation\"></a>\n",
    "\n",
    "We ingest the simulated data from the public SageMaker S3 training database:"
   ]
  },
  {
   "cell_type": "code",
   "execution_count": 13,
   "id": "5ff0d280",
   "metadata": {},
   "outputs": [],
   "source": [
    "s3 = boto3.client(\"s3\")\n",
    "s3.download_file(\n",
    "    f\"sagemaker-example-files-prod-{region}\",\n",
    "    \"datasets/tabular/synthetic_financial/financial_transactions_mini.csv\",\n",
    "    \"financial_transactions_mini.csv\",\n",
    ")"
   ]
  },
  {
   "cell_type": "markdown",
   "id": "08578d93",
   "metadata": {},
   "source": [
    "Let's start by loading the dataset from our csv file into a Pandas dataframe"
   ]
  },
  {
   "cell_type": "code",
   "execution_count": 14,
   "id": "a477abd7",
   "metadata": {},
   "outputs": [],
   "source": [
    "data = pd.read_csv(\n",
    "    \"financial_transactions_mini.csv\",\n",
    "    parse_dates=[\"timestamp\"],\n",
    "    infer_datetime_format=True,\n",
    "    dtype={\"transaction_category\": \"string\"},\n",
    ")"
   ]
  },
  {
   "cell_type": "markdown",
   "id": "cf6be447",
   "metadata": {},
   "source": [
    "The dataframe looks as follows:\n",
    "\n",
    "| | transaction_category | receiver_id | sender_id | amount | timestamp |\n",
    "|------:|:-----------------------|-----------------:|-----------------:|---------:|:--------------------|\n",
    "| 39733 | Shopping | 4258863736072564 | 4630246970548037 | 91.58 | 2021-03-10 01:28:23 |\n",
    "| 27254 | Shopping | 4356269497886716 | 4752313573239323 | 115.17 | 2021-01-22 23:28:24 |\n",
    "| 30628 | Shopping | 4233636409552058 | 4635766441812956 | 90.98 | 2021-02-05 03:24:10 |\n",
    "| 46614 | Shopping | 4054967431278644 | 4823810986511227 | 86.74 | 2021-04-02 14:42:45 |\n",
    "| 37957 | Shopping | 4831814582525664 | 4254514582909482 | 123.27 | 2021-03-17 11:17:18 |\n",
    "| 46878 | Shopping | 4425943481448900 | 4349267977109013 | 65.53 | 2021-03-17 15:47:49 |\n",
    "| 81350 | Auto and Transport | 4146116413442105 | 4062723166078919 | 91.67 | 2021-03-29 13:23:44 |\n",
    "| 10613 | Entertainment | 4788727923958282 | 4485838385631386 | 76.22 | 2021-02-11 17:45:53 |\n",
    "| 46715 | Shopping | 4702782703461430 | 4944181591271506 | 86.67 | 2021-03-20 15:37:17 |\n",
    "| 69110 | Investments | 4180233446952120 | 4702069426390603 | 530.39 | 2021-04-21 08:28:13 |"
   ]
  },
  {
   "cell_type": "code",
   "execution_count": 7,
   "id": "558fa01c",
   "metadata": {},
   "outputs": [
    {
     "data": {
      "text/html": [
       "<div>\n",
       "<style scoped>\n",
       "    .dataframe tbody tr th:only-of-type {\n",
       "        vertical-align: middle;\n",
       "    }\n",
       "\n",
       "    .dataframe tbody tr th {\n",
       "        vertical-align: top;\n",
       "    }\n",
       "\n",
       "    .dataframe thead th {\n",
       "        text-align: right;\n",
       "    }\n",
       "</style>\n",
       "<table border=\"1\" class=\"dataframe\">\n",
       "  <thead>\n",
       "    <tr style=\"text-align: right;\">\n",
       "      <th></th>\n",
       "      <th>transaction_category</th>\n",
       "      <th>receiver_id</th>\n",
       "      <th>sender_id</th>\n",
       "      <th>amount</th>\n",
       "      <th>timestamp</th>\n",
       "    </tr>\n",
       "  </thead>\n",
       "  <tbody>\n",
       "    <tr>\n",
       "      <th>20732</th>\n",
       "      <td>Shopping</td>\n",
       "      <td>4387952728450757</td>\n",
       "      <td>4143856652487138</td>\n",
       "      <td>124.91</td>\n",
       "      <td>2021-01-26 17:06:44</td>\n",
       "    </tr>\n",
       "    <tr>\n",
       "      <th>60409</th>\n",
       "      <td>Food and Dining</td>\n",
       "      <td>4291881950839129</td>\n",
       "      <td>4743835613012668</td>\n",
       "      <td>45.26</td>\n",
       "      <td>2021-04-11 19:47:07</td>\n",
       "    </tr>\n",
       "    <tr>\n",
       "      <th>70013</th>\n",
       "      <td>Bills and Utilities</td>\n",
       "      <td>4591197768026735</td>\n",
       "      <td>4873747402121570</td>\n",
       "      <td>165.42</td>\n",
       "      <td>2021-01-27 12:37:19</td>\n",
       "    </tr>\n",
       "    <tr>\n",
       "      <th>48694</th>\n",
       "      <td>Shopping</td>\n",
       "      <td>4856096011379463</td>\n",
       "      <td>4962709055974962</td>\n",
       "      <td>5.18</td>\n",
       "      <td>2021-01-13 21:44:39</td>\n",
       "    </tr>\n",
       "    <tr>\n",
       "      <th>54158</th>\n",
       "      <td>Health and Fitness</td>\n",
       "      <td>4085020320969650</td>\n",
       "      <td>4160241439990571</td>\n",
       "      <td>63.84</td>\n",
       "      <td>2021-03-02 12:18:08</td>\n",
       "    </tr>\n",
       "    <tr>\n",
       "      <th>5652</th>\n",
       "      <td>Entertainment</td>\n",
       "      <td>4157427767096975</td>\n",
       "      <td>4546951985538385</td>\n",
       "      <td>82.72</td>\n",
       "      <td>2021-01-16 23:27:55</td>\n",
       "    </tr>\n",
       "    <tr>\n",
       "      <th>33307</th>\n",
       "      <td>Shopping</td>\n",
       "      <td>4707577188678036</td>\n",
       "      <td>4725392555702809</td>\n",
       "      <td>40.98</td>\n",
       "      <td>2021-01-13 07:55:17</td>\n",
       "    </tr>\n",
       "    <tr>\n",
       "      <th>51904</th>\n",
       "      <td>Health and Fitness</td>\n",
       "      <td>4559504630451282</td>\n",
       "      <td>4991659183630967</td>\n",
       "      <td>92.12</td>\n",
       "      <td>2021-04-02 17:04:17</td>\n",
       "    </tr>\n",
       "    <tr>\n",
       "      <th>7644</th>\n",
       "      <td>Entertainment</td>\n",
       "      <td>4618751724083732</td>\n",
       "      <td>4728806894593691</td>\n",
       "      <td>32.17</td>\n",
       "      <td>2021-02-11 19:04:27</td>\n",
       "    </tr>\n",
       "    <tr>\n",
       "      <th>66175</th>\n",
       "      <td>Gifts and Donations</td>\n",
       "      <td>4773225092904879</td>\n",
       "      <td>4506371246168732</td>\n",
       "      <td>47.44</td>\n",
       "      <td>2021-04-19 06:16:26</td>\n",
       "    </tr>\n",
       "  </tbody>\n",
       "</table>\n",
       "</div>"
      ],
      "text/plain": [
       "      transaction_category       receiver_id         sender_id  amount  \\\n",
       "20732             Shopping  4387952728450757  4143856652487138  124.91   \n",
       "60409      Food and Dining  4291881950839129  4743835613012668   45.26   \n",
       "70013  Bills and Utilities  4591197768026735  4873747402121570  165.42   \n",
       "48694             Shopping  4856096011379463  4962709055974962    5.18   \n",
       "54158   Health and Fitness  4085020320969650  4160241439990571   63.84   \n",
       "5652         Entertainment  4157427767096975  4546951985538385   82.72   \n",
       "33307             Shopping  4707577188678036  4725392555702809   40.98   \n",
       "51904   Health and Fitness  4559504630451282  4991659183630967   92.12   \n",
       "7644         Entertainment  4618751724083732  4728806894593691   32.17   \n",
       "66175  Gifts and Donations  4773225092904879  4506371246168732   47.44   \n",
       "\n",
       "                timestamp  \n",
       "20732 2021-01-26 17:06:44  \n",
       "60409 2021-04-11 19:47:07  \n",
       "70013 2021-01-27 12:37:19  \n",
       "48694 2021-01-13 21:44:39  \n",
       "54158 2021-03-02 12:18:08  \n",
       "5652  2021-01-16 23:27:55  \n",
       "33307 2021-01-13 07:55:17  \n",
       "51904 2021-04-02 17:04:17  \n",
       "7644  2021-02-11 19:04:27  \n",
       "66175 2021-04-19 06:16:26  "
      ]
     },
     "execution_count": 7,
     "metadata": {},
     "output_type": "execute_result"
    }
   ],
   "source": [
    "data.sample(10)"
   ]
  },
  {
   "cell_type": "markdown",
   "id": "b5492919",
   "metadata": {},
   "source": [
    "Next, we extract the year, month, day, hour, minute, second from the timestamp and remove the timestamp"
   ]
  },
  {
   "cell_type": "code",
   "execution_count": 7,
   "id": "24f6090e",
   "metadata": {},
   "outputs": [],
   "source": [
    "data[\"year\"] = data[\"timestamp\"].dt.year\n",
    "data[\"month\"] = data[\"timestamp\"].dt.month\n",
    "data[\"day\"] = data[\"timestamp\"].dt.day\n",
    "data[\"hour\"] = data[\"timestamp\"].dt.hour\n",
    "data[\"minute\"] = data[\"timestamp\"].dt.minute\n",
    "data[\"second\"] = data[\"timestamp\"].dt.second\n",
    "\n",
    "del data[\"timestamp\"]"
   ]
  },
  {
   "cell_type": "markdown",
   "id": "f7314f8a",
   "metadata": {},
   "source": [
    "We'll transform the transaction categories to numeric targets for the classification by factorization."
   ]
  },
  {
   "cell_type": "code",
   "execution_count": 8,
   "id": "ea2ebdd5",
   "metadata": {},
   "outputs": [],
   "source": [
    "data[\"transaction_category\"] = data[\"transaction_category\"].replace(factorize_key)"
   ]
  },
  {
   "cell_type": "markdown",
   "id": "9b9ed583",
   "metadata": {},
   "source": [
    "### 3. Create feature store <a class=\"anchor\" id=\"Create-feature-store\"></a>\n",
    "\n",
    "To enrich dataset we will use the [Feature Store](https://aws.amazon.com/sagemaker/feature-store/). "
   ]
  },
  {
   "cell_type": "markdown",
   "id": "233b862a",
   "metadata": {},
   "source": [
    "Before creating the feature store itself we need to set a name for the feature group and identifier used"
   ]
  },
  {
   "cell_type": "code",
   "execution_count": 15,
   "id": "9df53a9c",
   "metadata": {},
   "outputs": [],
   "source": [
    "feature_group_name = \"feature-group-payment-classification\"\n",
    "record_identifier_feature_name = \"identifier\""
   ]
  },
  {
   "cell_type": "markdown",
   "id": "8d9b663f",
   "metadata": {},
   "source": [
    "With the name we defined we create the feature group, runtime and session"
   ]
  },
  {
   "cell_type": "code",
   "execution_count": 16,
   "id": "1aef7f91",
   "metadata": {},
   "outputs": [],
   "source": [
    "feature_group = FeatureGroup(name=feature_group_name, sagemaker_session=sagemaker_session)\n",
    "\n",
    "featurestore_runtime = boto_session.client(\n",
    "    service_name=\"sagemaker-featurestore-runtime\", region_name=region\n",
    ")\n",
    "\n",
    "feature_store_session = sagemaker.Session(\n",
    "    boto_session=boto_session,\n",
    "    sagemaker_client=sm_client,\n",
    "    sagemaker_featurestore_runtime_client=featurestore_runtime,\n",
    ")"
   ]
  },
  {
   "cell_type": "markdown",
   "id": "3f3d69f5",
   "metadata": {},
   "source": [
    "Once we have defined our feature store we need to put some data in it. We create a Pandas dataframe with the columns mean_amount, count, identifier and event time to store in the feature store"
   ]
  },
  {
   "cell_type": "code",
   "execution_count": 17,
   "id": "a1a250da",
   "metadata": {},
   "outputs": [],
   "source": [
    "columns = [\"mean_amount\", \"count\", \"identifier\", \"EventTime\"]\n",
    "feature_store_data = pd.DataFrame(columns=columns, dtype=object)\n",
    "\n",
    "feature_store_data[\"identifier\"] = range(19)\n",
    "feature_store_data[\"mean_amount\"] = 0.0\n",
    "feature_store_data[\"count\"] = 1\n",
    "feature_store_data[\"EventTime\"] = time.time()"
   ]
  },
  {
   "cell_type": "markdown",
   "id": "dea2565b",
   "metadata": {},
   "source": [
    "Using the created dataframe we set the feature definitions"
   ]
  },
  {
   "cell_type": "code",
   "execution_count": 18,
   "id": "292571c7",
   "metadata": {},
   "outputs": [
    {
     "data": {
      "text/plain": [
       "[FeatureDefinition(feature_name='mean_amount', feature_type=<FeatureTypeEnum.FRACTIONAL: 'Fractional'>, collection_type=None),\n",
       " FeatureDefinition(feature_name='count', feature_type=<FeatureTypeEnum.INTEGRAL: 'Integral'>, collection_type=None),\n",
       " FeatureDefinition(feature_name='identifier', feature_type=<FeatureTypeEnum.INTEGRAL: 'Integral'>, collection_type=None),\n",
       " FeatureDefinition(feature_name='EventTime', feature_type=<FeatureTypeEnum.FRACTIONAL: 'Fractional'>, collection_type=None)]"
      ]
     },
     "execution_count": 18,
     "metadata": {},
     "output_type": "execute_result"
    }
   ],
   "source": [
    "feature_group.load_feature_definitions(data_frame=feature_store_data)"
   ]
  },
  {
   "cell_type": "markdown",
   "id": "2a845e07",
   "metadata": {},
   "source": [
    "With these definitions ready we can create the feature group itself"
   ]
  },
  {
   "cell_type": "code",
   "execution_count": null,
   "id": "d046eeb4",
   "metadata": {},
   "outputs": [],
   "source": [
    "feature_group.create(\n",
    "    s3_uri=f\"s3://{s3_bucket}/{bucket_prefix}\",\n",
    "    record_identifier_name=record_identifier_feature_name,\n",
    "    event_time_feature_name=\"EventTime\",\n",
    "    role_arn=role,\n",
    "    enable_online_store=True,\n",
    ")"
   ]
  },
  {
   "cell_type": "markdown",
   "id": "95ad73b1",
   "metadata": {},
   "source": [
    "It takes a couple of minutes for the feature group to be created, we need to wait for this to be done before trying to ingest data in the feature store"
   ]
  },
  {
   "cell_type": "code",
   "execution_count": 20,
   "id": "530865ec",
   "metadata": {},
   "outputs": [
    {
     "name": "stdout",
     "output_type": "stream",
     "text": [
      "Waiting for Feature Group to be Created\n",
      "Waiting for Feature Group to be Created\n",
      "Waiting for Feature Group to be Created\n",
      "FeatureGroup feature-group-payment-classification-v2 successfully created.\n"
     ]
    }
   ],
   "source": [
    "status = feature_group.describe().get(\"FeatureGroupStatus\")\n",
    "while status == \"Creating\":\n",
    "    print(\"Waiting for Feature Group to be Created\")\n",
    "    time.sleep(5)\n",
    "    status = feature_group.describe().get(\"FeatureGroupStatus\")\n",
    "print(f\"FeatureGroup {feature_group.name} successfully created.\")"
   ]
  },
  {
   "cell_type": "markdown",
   "id": "3df88321",
   "metadata": {},
   "source": [
    "Once the feature group is created we can ingest data into it"
   ]
  },
  {
   "cell_type": "code",
   "execution_count": 21,
   "id": "8168ebd5",
   "metadata": {},
   "outputs": [
    {
     "data": {
      "text/plain": [
       "IngestionManagerPandas(feature_group_name='feature-group-payment-classification-v2', feature_definitions={'mean_amount': {'FeatureName': 'mean_amount', 'FeatureType': 'Fractional'}, 'count': {'FeatureName': 'count', 'FeatureType': 'Integral'}, 'identifier': {'FeatureName': 'identifier', 'FeatureType': 'Integral'}, 'EventTime': {'FeatureName': 'EventTime', 'FeatureType': 'Fractional'}}, sagemaker_fs_runtime_client_config=<botocore.config.Config object at 0x7f10efe59640>, sagemaker_session=<sagemaker.session.Session object at 0x7f10efe54e20>, max_workers=3, max_processes=1, profile_name=None, _async_result=<multiprocess.pool.MapResult object at 0x7f10f0e5db50>, _processing_pool=<pool ProcessPool(ncpus=1)>, _failed_indices=[])"
      ]
     },
     "execution_count": 21,
     "metadata": {},
     "output_type": "execute_result"
    }
   ],
   "source": [
    "feature_group.ingest(data_frame=feature_store_data, max_workers=3, wait=True)"
   ]
  },
  {
   "cell_type": "markdown",
   "id": "485d1906",
   "metadata": {},
   "source": [
    "To retrieve data from our feature store we define a function that gets the current values from the feature store"
   ]
  },
  {
   "cell_type": "code",
   "execution_count": 22,
   "id": "5f36a576",
   "metadata": {},
   "outputs": [],
   "source": [
    "def get_feature_store_values():\n",
    "    response = featurestore_runtime.batch_get_record(\n",
    "        Identifiers=[\n",
    "            {\n",
    "                \"FeatureGroupName\": feature_group_name,\n",
    "                \"RecordIdentifiersValueAsString\": [str(i) for i in range(19)],\n",
    "            }\n",
    "        ]\n",
    "    )\n",
    "\n",
    "    columns = [\"mean_amount\", \"count\", \"identifier\", \"EventTime\"]\n",
    "\n",
    "    feature_store_resp = pd.DataFrame(\n",
    "        data=[\n",
    "            [resp[\"Record\"][i][\"ValueAsString\"] for i in range(len(columns))]\n",
    "            for resp in response[\"Records\"]\n",
    "        ],\n",
    "        columns=columns,\n",
    "    )\n",
    "    feature_store_resp[\"identifier\"] = feature_store_resp[\"identifier\"].astype(int)\n",
    "    feature_store_resp[\"count\"] = feature_store_resp[\"count\"].astype(int)\n",
    "    feature_store_resp[\"mean_amount\"] = feature_store_resp[\"mean_amount\"].astype(float)\n",
    "    feature_store_resp[\"EventTime\"] = feature_store_resp[\"EventTime\"].astype(float)\n",
    "    feature_store_resp = feature_store_resp.sort_values(by=\"identifier\")\n",
    "\n",
    "    return feature_store_resp\n",
    "\n",
    "\n",
    "feature_store_resp = get_feature_store_values()"
   ]
  },
  {
   "cell_type": "markdown",
   "id": "b5e4834e",
   "metadata": {},
   "source": [
    "We update the values in the feature store with the real values of our data"
   ]
  },
  {
   "cell_type": "code",
   "execution_count": 23,
   "id": "cb025e68",
   "metadata": {},
   "outputs": [
    {
     "data": {
      "text/plain": [
       "IngestionManagerPandas(feature_group_name='feature-group-payment-classification-v2', feature_definitions={'mean_amount': {'FeatureName': 'mean_amount', 'FeatureType': 'Fractional'}, 'count': {'FeatureName': 'count', 'FeatureType': 'Integral'}, 'identifier': {'FeatureName': 'identifier', 'FeatureType': 'Integral'}, 'EventTime': {'FeatureName': 'EventTime', 'FeatureType': 'Fractional'}}, sagemaker_fs_runtime_client_config=<botocore.config.Config object at 0x7f10efe59640>, sagemaker_session=<sagemaker.session.Session object at 0x7f10efe54e20>, max_workers=3, max_processes=1, profile_name=None, _async_result=<multiprocess.pool.MapResult object at 0x7f10efd4c1c0>, _processing_pool=<pool ProcessPool(ncpus=1)>, _failed_indices=[])"
      ]
     },
     "execution_count": 23,
     "metadata": {},
     "output_type": "execute_result"
    }
   ],
   "source": [
    "feature_store_data = pd.DataFrame()\n",
    "feature_store_data[\"mean_amount\"] = data.groupby([\"transaction_category\"]).mean()[\"amount\"]\n",
    "feature_store_data[\"count\"] = data.groupby([\"transaction_category\"]).count()[\"amount\"]\n",
    "feature_store_data[\"identifier\"] = feature_store_data.index\n",
    "feature_store_data[\"EventTime\"] = time.time()\n",
    "\n",
    "feature_store_data[\"mean_amount\"] = (\n",
    "    pd.concat([feature_store_resp, feature_store_data])\n",
    "    .groupby(\"identifier\")\n",
    "    .apply(lambda x: np.average(x[\"mean_amount\"], weights=x[\"count\"]))\n",
    ")\n",
    "feature_store_data[\"count\"] = (\n",
    "    pd.concat([feature_store_resp, feature_store_data]).groupby(\"identifier\").sum()[\"count\"]\n",
    ")\n",
    "\n",
    "feature_group.ingest(data_frame=feature_store_data, max_workers=3, wait=True)"
   ]
  },
  {
   "cell_type": "markdown",
   "id": "e2f6395f",
   "metadata": {},
   "source": [
    "And display them after getting them from the feature store"
   ]
  },
  {
   "cell_type": "code",
   "execution_count": 24,
   "id": "10b23bf6",
   "metadata": {},
   "outputs": [
    {
     "data": {
      "text/html": [
       "<div>\n",
       "<style scoped>\n",
       "    .dataframe tbody tr th:only-of-type {\n",
       "        vertical-align: middle;\n",
       "    }\n",
       "\n",
       "    .dataframe tbody tr th {\n",
       "        vertical-align: top;\n",
       "    }\n",
       "\n",
       "    .dataframe thead th {\n",
       "        text-align: right;\n",
       "    }\n",
       "</style>\n",
       "<table border=\"1\" class=\"dataframe\">\n",
       "  <thead>\n",
       "    <tr style=\"text-align: right;\">\n",
       "      <th></th>\n",
       "      <th>mean_amount</th>\n",
       "      <th>count</th>\n",
       "      <th>identifier</th>\n",
       "      <th>EventTime</th>\n",
       "    </tr>\n",
       "  </thead>\n",
       "  <tbody>\n",
       "    <tr>\n",
       "      <th>2</th>\n",
       "      <td>495.837355</td>\n",
       "      <td>465</td>\n",
       "      <td>0</td>\n",
       "      <td>1.749379e+09</td>\n",
       "    </tr>\n",
       "    <tr>\n",
       "      <th>15</th>\n",
       "      <td>51.209382</td>\n",
       "      <td>14512</td>\n",
       "      <td>1</td>\n",
       "      <td>1.749379e+09</td>\n",
       "    </tr>\n",
       "    <tr>\n",
       "      <th>11</th>\n",
       "      <td>851.153495</td>\n",
       "      <td>744</td>\n",
       "      <td>2</td>\n",
       "      <td>1.749379e+09</td>\n",
       "    </tr>\n",
       "    <tr>\n",
       "      <th>14</th>\n",
       "      <td>100.917503</td>\n",
       "      <td>33953</td>\n",
       "      <td>3</td>\n",
       "      <td>1.749379e+09</td>\n",
       "    </tr>\n",
       "    <tr>\n",
       "      <th>5</th>\n",
       "      <td>31.504036</td>\n",
       "      <td>1209</td>\n",
       "      <td>4</td>\n",
       "      <td>1.749379e+09</td>\n",
       "    </tr>\n",
       "    <tr>\n",
       "      <th>8</th>\n",
       "      <td>119.596405</td>\n",
       "      <td>4837</td>\n",
       "      <td>5</td>\n",
       "      <td>1.749379e+09</td>\n",
       "    </tr>\n",
       "    <tr>\n",
       "      <th>4</th>\n",
       "      <td>93.249393</td>\n",
       "      <td>9674</td>\n",
       "      <td>6</td>\n",
       "      <td>1.749379e+09</td>\n",
       "    </tr>\n",
       "    <tr>\n",
       "      <th>16</th>\n",
       "      <td>51.072447</td>\n",
       "      <td>2791</td>\n",
       "      <td>7</td>\n",
       "      <td>1.749379e+09</td>\n",
       "    </tr>\n",
       "    <tr>\n",
       "      <th>17</th>\n",
       "      <td>6024.547484</td>\n",
       "      <td>930</td>\n",
       "      <td>8</td>\n",
       "      <td>1.749379e+09</td>\n",
       "    </tr>\n",
       "    <tr>\n",
       "      <th>10</th>\n",
       "      <td>114.779558</td>\n",
       "      <td>3349</td>\n",
       "      <td>9</td>\n",
       "      <td>1.749379e+09</td>\n",
       "    </tr>\n",
       "    <tr>\n",
       "      <th>7</th>\n",
       "      <td>100.977110</td>\n",
       "      <td>19349</td>\n",
       "      <td>10</td>\n",
       "      <td>1.749379e+09</td>\n",
       "    </tr>\n",
       "    <tr>\n",
       "      <th>9</th>\n",
       "      <td>351.807588</td>\n",
       "      <td>1302</td>\n",
       "      <td>11</td>\n",
       "      <td>1.749379e+09</td>\n",
       "    </tr>\n",
       "    <tr>\n",
       "      <th>0</th>\n",
       "      <td>26.950559</td>\n",
       "      <td>930</td>\n",
       "      <td>12</td>\n",
       "      <td>1.749379e+09</td>\n",
       "    </tr>\n",
       "    <tr>\n",
       "      <th>3</th>\n",
       "      <td>204.739197</td>\n",
       "      <td>1395</td>\n",
       "      <td>13</td>\n",
       "      <td>1.749379e+09</td>\n",
       "    </tr>\n",
       "    <tr>\n",
       "      <th>18</th>\n",
       "      <td>496.766086</td>\n",
       "      <td>930</td>\n",
       "      <td>14</td>\n",
       "      <td>1.749379e+09</td>\n",
       "    </tr>\n",
       "    <tr>\n",
       "      <th>12</th>\n",
       "      <td>2913.673247</td>\n",
       "      <td>465</td>\n",
       "      <td>15</td>\n",
       "      <td>1.749379e+09</td>\n",
       "    </tr>\n",
       "    <tr>\n",
       "      <th>13</th>\n",
       "      <td>375.228871</td>\n",
       "      <td>186</td>\n",
       "      <td>16</td>\n",
       "      <td>1.749379e+09</td>\n",
       "    </tr>\n",
       "    <tr>\n",
       "      <th>6</th>\n",
       "      <td>781.392199</td>\n",
       "      <td>1860</td>\n",
       "      <td>17</td>\n",
       "      <td>1.749379e+09</td>\n",
       "    </tr>\n",
       "    <tr>\n",
       "      <th>1</th>\n",
       "      <td>205.457151</td>\n",
       "      <td>1116</td>\n",
       "      <td>18</td>\n",
       "      <td>1.749379e+09</td>\n",
       "    </tr>\n",
       "  </tbody>\n",
       "</table>\n",
       "</div>"
      ],
      "text/plain": [
       "    mean_amount  count  identifier     EventTime\n",
       "2    495.837355    465           0  1.749379e+09\n",
       "15    51.209382  14512           1  1.749379e+09\n",
       "11   851.153495    744           2  1.749379e+09\n",
       "14   100.917503  33953           3  1.749379e+09\n",
       "5     31.504036   1209           4  1.749379e+09\n",
       "8    119.596405   4837           5  1.749379e+09\n",
       "4     93.249393   9674           6  1.749379e+09\n",
       "16    51.072447   2791           7  1.749379e+09\n",
       "17  6024.547484    930           8  1.749379e+09\n",
       "10   114.779558   3349           9  1.749379e+09\n",
       "7    100.977110  19349          10  1.749379e+09\n",
       "9    351.807588   1302          11  1.749379e+09\n",
       "0     26.950559    930          12  1.749379e+09\n",
       "3    204.739197   1395          13  1.749379e+09\n",
       "18   496.766086    930          14  1.749379e+09\n",
       "12  2913.673247    465          15  1.749379e+09\n",
       "13   375.228871    186          16  1.749379e+09\n",
       "6    781.392199   1860          17  1.749379e+09\n",
       "1    205.457151   1116          18  1.749379e+09"
      ]
     },
     "execution_count": 24,
     "metadata": {},
     "output_type": "execute_result"
    }
   ],
   "source": [
    "feature_store_data = get_feature_store_values()\n",
    "feature_store_data"
   ]
  },
  {
   "cell_type": "markdown",
   "id": "cf148985",
   "metadata": {},
   "source": [
    "We use the feature store to calculate the distance between the average of every category and the current amount"
   ]
  },
  {
   "cell_type": "code",
   "execution_count": 25,
   "id": "4a3e85de",
   "metadata": {},
   "outputs": [
    {
     "data": {
      "text/html": [
       "<div>\n",
       "<style scoped>\n",
       "    .dataframe tbody tr th:only-of-type {\n",
       "        vertical-align: middle;\n",
       "    }\n",
       "\n",
       "    .dataframe tbody tr th {\n",
       "        vertical-align: top;\n",
       "    }\n",
       "\n",
       "    .dataframe thead th {\n",
       "        text-align: right;\n",
       "    }\n",
       "</style>\n",
       "<table border=\"1\" class=\"dataframe\">\n",
       "  <thead>\n",
       "    <tr style=\"text-align: right;\">\n",
       "      <th></th>\n",
       "      <th>transaction_category</th>\n",
       "      <th>receiver_id</th>\n",
       "      <th>sender_id</th>\n",
       "      <th>amount</th>\n",
       "      <th>year</th>\n",
       "      <th>month</th>\n",
       "      <th>day</th>\n",
       "      <th>hour</th>\n",
       "      <th>minute</th>\n",
       "      <th>second</th>\n",
       "      <th>...</th>\n",
       "      <th>9_dist</th>\n",
       "      <th>10_dist</th>\n",
       "      <th>11_dist</th>\n",
       "      <th>12_dist</th>\n",
       "      <th>13_dist</th>\n",
       "      <th>14_dist</th>\n",
       "      <th>15_dist</th>\n",
       "      <th>16_dist</th>\n",
       "      <th>17_dist</th>\n",
       "      <th>18_dist</th>\n",
       "    </tr>\n",
       "  </thead>\n",
       "  <tbody>\n",
       "    <tr>\n",
       "      <th>88839</th>\n",
       "      <td>10</td>\n",
       "      <td>4.235360e+15</td>\n",
       "      <td>4.235834e+15</td>\n",
       "      <td>5.68</td>\n",
       "      <td>2021.0</td>\n",
       "      <td>3.0</td>\n",
       "      <td>7.0</td>\n",
       "      <td>18.0</td>\n",
       "      <td>36.0</td>\n",
       "      <td>38.0</td>\n",
       "      <td>...</td>\n",
       "      <td>109.099558</td>\n",
       "      <td>95.29711</td>\n",
       "      <td>346.127588</td>\n",
       "      <td>21.270559</td>\n",
       "      <td>199.059197</td>\n",
       "      <td>491.086086</td>\n",
       "      <td>2907.993247</td>\n",
       "      <td>369.548871</td>\n",
       "      <td>775.712199</td>\n",
       "      <td>199.777151</td>\n",
       "    </tr>\n",
       "    <tr>\n",
       "      <th>54118</th>\n",
       "      <td>5</td>\n",
       "      <td>4.884573e+15</td>\n",
       "      <td>4.563383e+15</td>\n",
       "      <td>217.57</td>\n",
       "      <td>2021.0</td>\n",
       "      <td>2.0</td>\n",
       "      <td>10.0</td>\n",
       "      <td>5.0</td>\n",
       "      <td>12.0</td>\n",
       "      <td>11.0</td>\n",
       "      <td>...</td>\n",
       "      <td>102.790442</td>\n",
       "      <td>116.59289</td>\n",
       "      <td>134.237588</td>\n",
       "      <td>190.619441</td>\n",
       "      <td>12.830803</td>\n",
       "      <td>279.196086</td>\n",
       "      <td>2696.103247</td>\n",
       "      <td>157.658871</td>\n",
       "      <td>563.822199</td>\n",
       "      <td>12.112849</td>\n",
       "    </tr>\n",
       "    <tr>\n",
       "      <th>88033</th>\n",
       "      <td>10</td>\n",
       "      <td>4.944239e+15</td>\n",
       "      <td>4.010533e+15</td>\n",
       "      <td>70.78</td>\n",
       "      <td>2021.0</td>\n",
       "      <td>4.0</td>\n",
       "      <td>11.0</td>\n",
       "      <td>14.0</td>\n",
       "      <td>7.0</td>\n",
       "      <td>0.0</td>\n",
       "      <td>...</td>\n",
       "      <td>43.999558</td>\n",
       "      <td>30.19711</td>\n",
       "      <td>281.027588</td>\n",
       "      <td>43.829441</td>\n",
       "      <td>133.959197</td>\n",
       "      <td>425.986086</td>\n",
       "      <td>2842.893247</td>\n",
       "      <td>304.448871</td>\n",
       "      <td>710.612199</td>\n",
       "      <td>134.677151</td>\n",
       "    </tr>\n",
       "    <tr>\n",
       "      <th>89165</th>\n",
       "      <td>10</td>\n",
       "      <td>4.928968e+15</td>\n",
       "      <td>4.609998e+15</td>\n",
       "      <td>146.05</td>\n",
       "      <td>2021.0</td>\n",
       "      <td>4.0</td>\n",
       "      <td>17.0</td>\n",
       "      <td>14.0</td>\n",
       "      <td>20.0</td>\n",
       "      <td>48.0</td>\n",
       "      <td>...</td>\n",
       "      <td>31.270442</td>\n",
       "      <td>45.07289</td>\n",
       "      <td>205.757588</td>\n",
       "      <td>119.099441</td>\n",
       "      <td>58.689197</td>\n",
       "      <td>350.716086</td>\n",
       "      <td>2767.623247</td>\n",
       "      <td>229.178871</td>\n",
       "      <td>635.342199</td>\n",
       "      <td>59.407151</td>\n",
       "    </tr>\n",
       "    <tr>\n",
       "      <th>69596</th>\n",
       "      <td>9</td>\n",
       "      <td>4.900379e+15</td>\n",
       "      <td>4.218455e+15</td>\n",
       "      <td>171.87</td>\n",
       "      <td>2021.0</td>\n",
       "      <td>1.0</td>\n",
       "      <td>11.0</td>\n",
       "      <td>19.0</td>\n",
       "      <td>19.0</td>\n",
       "      <td>47.0</td>\n",
       "      <td>...</td>\n",
       "      <td>57.090442</td>\n",
       "      <td>70.89289</td>\n",
       "      <td>179.937588</td>\n",
       "      <td>144.919441</td>\n",
       "      <td>32.869197</td>\n",
       "      <td>324.896086</td>\n",
       "      <td>2741.803247</td>\n",
       "      <td>203.358871</td>\n",
       "      <td>609.522199</td>\n",
       "      <td>33.587151</td>\n",
       "    </tr>\n",
       "  </tbody>\n",
       "</table>\n",
       "<p>5 rows × 29 columns</p>\n",
       "</div>"
      ],
      "text/plain": [
       "      transaction_category   receiver_id     sender_id  amount    year  month  \\\n",
       "88839                   10  4.235360e+15  4.235834e+15    5.68  2021.0    3.0   \n",
       "54118                    5  4.884573e+15  4.563383e+15  217.57  2021.0    2.0   \n",
       "88033                   10  4.944239e+15  4.010533e+15   70.78  2021.0    4.0   \n",
       "89165                   10  4.928968e+15  4.609998e+15  146.05  2021.0    4.0   \n",
       "69596                    9  4.900379e+15  4.218455e+15  171.87  2021.0    1.0   \n",
       "\n",
       "        day  hour  minute  second  ...      9_dist    10_dist     11_dist  \\\n",
       "88839   7.0  18.0    36.0    38.0  ...  109.099558   95.29711  346.127588   \n",
       "54118  10.0   5.0    12.0    11.0  ...  102.790442  116.59289  134.237588   \n",
       "88033  11.0  14.0     7.0     0.0  ...   43.999558   30.19711  281.027588   \n",
       "89165  17.0  14.0    20.0    48.0  ...   31.270442   45.07289  205.757588   \n",
       "69596  11.0  19.0    19.0    47.0  ...   57.090442   70.89289  179.937588   \n",
       "\n",
       "          12_dist     13_dist     14_dist      15_dist     16_dist  \\\n",
       "88839   21.270559  199.059197  491.086086  2907.993247  369.548871   \n",
       "54118  190.619441   12.830803  279.196086  2696.103247  157.658871   \n",
       "88033   43.829441  133.959197  425.986086  2842.893247  304.448871   \n",
       "89165  119.099441   58.689197  350.716086  2767.623247  229.178871   \n",
       "69596  144.919441   32.869197  324.896086  2741.803247  203.358871   \n",
       "\n",
       "          17_dist     18_dist  \n",
       "88839  775.712199  199.777151  \n",
       "54118  563.822199   12.112849  \n",
       "88033  710.612199  134.677151  \n",
       "89165  635.342199   59.407151  \n",
       "69596  609.522199   33.587151  \n",
       "\n",
       "[5 rows x 29 columns]"
      ]
     },
     "execution_count": 25,
     "metadata": {},
     "output_type": "execute_result"
    }
   ],
   "source": [
    "additional_features = pd.pivot_table(\n",
    "    feature_store_data, values=[\"mean_amount\"], index=[\"identifier\"]\n",
    ").T.add_suffix(\"_dist\")\n",
    "additional_features_columns = list(additional_features.columns)\n",
    "data = pd.concat([data, pd.DataFrame(columns=additional_features_columns, dtype=object)])\n",
    "data[additional_features_columns] = additional_features.values[0]\n",
    "for col in additional_features_columns:\n",
    "    data[col] = abs(data[col] - data[\"amount\"])\n",
    "\n",
    "data.sample(5)"
   ]
  },
  {
   "cell_type": "markdown",
   "id": "289eeca6",
   "metadata": {},
   "source": [
    "### 4. Create model <a class=\"anchor\" id=\"Create-model\"></a>\n",
    "In this notebook we will be using the [Extreme Gradient Boosting](https://docs.aws.amazon.com/sagemaker/latest/dg/xgboost.html) (XGBoost) implementation of the gradient boosted trees algorithm. This model is selected due to it relatively fast training time and explainable properties. The model can be substituted at will a different [SageMaker estimator](https://sagemaker.readthedocs.io/en/stable/api/training/estimators.html) or a [model of your choosing](https://aws.amazon.com/blogs/machine-learning/bring-your-own-model-with-amazon-sagemaker-script-mode/).\n",
    "\n",
    "\n",
    "\n",
    "Now that we have the dataset we can start preparing the model. First, we create a training, validation and testing split."
   ]
  },
  {
   "cell_type": "code",
   "execution_count": 15,
   "id": "bb4bdd8d",
   "metadata": {},
   "outputs": [],
   "source": [
    "# Randomly sort the data then split out first 70%, second 20%, and last 10%\n",
    "train_data, validation_data, test_data = np.split(\n",
    "    data.sample(frac=1, random_state=42), [int(0.7 * len(data)), int(0.9 * len(data))]\n",
    ")"
   ]
  },
  {
   "cell_type": "markdown",
   "id": "f81f65b9",
   "metadata": {},
   "source": [
    "We save these sets to a file."
   ]
  },
  {
   "cell_type": "code",
   "execution_count": 27,
   "id": "f849a7a9",
   "metadata": {},
   "outputs": [],
   "source": [
    "train_data.to_csv(\"train.csv\", index=False, header=False)\n",
    "validation_data.to_csv(\"validation.csv\", index=False, header=False)\n",
    "test_data.to_csv(\"test.csv\", index=False, header=True)"
   ]
  },
  {
   "cell_type": "markdown",
   "id": "de669936",
   "metadata": {},
   "source": [
    "And upload these files to our s3 bucket"
   ]
  },
  {
   "cell_type": "code",
   "execution_count": 28,
   "id": "e1ca2543",
   "metadata": {},
   "outputs": [],
   "source": [
    "boto3.Session().resource(\"s3\").Bucket(s3_bucket).Object(\n",
    "    os.path.join(bucket_prefix, \"train/train.csv\")\n",
    ").upload_file(\"train.csv\")\n",
    "boto3.Session().resource(\"s3\").Bucket(s3_bucket).Object(\n",
    "    os.path.join(bucket_prefix, \"validation/validation.csv\")\n",
    ").upload_file(\"validation.csv\")\n",
    "boto3.Session().resource(\"s3\").Bucket(s3_bucket).Object(\n",
    "    os.path.join(bucket_prefix, \"test/test.csv\")\n",
    ").upload_file(\"test.csv\")"
   ]
  },
  {
   "cell_type": "markdown",
   "id": "22de532f",
   "metadata": {},
   "source": [
    "Get the XGBoost sagemaker image"
   ]
  },
  {
   "cell_type": "code",
   "execution_count": 29,
   "id": "a41b6a7d",
   "metadata": {},
   "outputs": [],
   "source": [
    "container = sagemaker.image_uris.retrieve(region=region, framework=\"xgboost\", version=\"1.2-2\")"
   ]
  },
  {
   "cell_type": "markdown",
   "id": "66cae2a9",
   "metadata": {},
   "source": [
    "Transform our data to a sagemaker input for training"
   ]
  },
  {
   "cell_type": "code",
   "execution_count": 30,
   "id": "e51c917a",
   "metadata": {},
   "outputs": [],
   "source": [
    "s3_input_train = sagemaker.inputs.TrainingInput(\n",
    "    s3_data=\"s3://{}/{}/train\".format(s3_bucket, bucket_prefix), content_type=\"csv\"\n",
    ")\n",
    "s3_input_validation = sagemaker.inputs.TrainingInput(\n",
    "    s3_data=\"s3://{}/{}/validation/\".format(s3_bucket, bucket_prefix), content_type=\"csv\"\n",
    ")"
   ]
  },
  {
   "cell_type": "markdown",
   "id": "6f2985d8",
   "metadata": {},
   "source": [
    "We define the XGBoost model"
   ]
  },
  {
   "cell_type": "code",
   "execution_count": 31,
   "id": "92c1fe8c",
   "metadata": {},
   "outputs": [],
   "source": [
    "xgb = sagemaker.estimator.Estimator(\n",
    "    container,\n",
    "    role,\n",
    "    instance_count=1,\n",
    "    instance_type=\"ml.m4.xlarge\",\n",
    "    output_path=\"s3://{}/{}/output\".format(s3_bucket, bucket_prefix),\n",
    "    sagemaker_session=sagemaker_session,\n",
    ")"
   ]
  },
  {
   "cell_type": "markdown",
   "id": "ecafdfe8",
   "metadata": {},
   "source": [
    "Set the parameters"
   ]
  },
  {
   "cell_type": "code",
   "execution_count": 32,
   "id": "582adc6c",
   "metadata": {},
   "outputs": [],
   "source": [
    "xgb.set_hyperparameters(\n",
    "    max_depth=5,\n",
    "    eta=0.2,\n",
    "    gamma=4,\n",
    "    min_child_weight=6,\n",
    "    subsample=0.8,\n",
    "    objective=\"multi:softprob\",\n",
    "    num_class=19,\n",
    "    verbosity=0,\n",
    "    num_round=100,\n",
    ")"
   ]
  },
  {
   "cell_type": "markdown",
   "id": "b36463dd",
   "metadata": {},
   "source": [
    "And train the model"
   ]
  },
  {
   "cell_type": "code",
   "execution_count": 33,
   "id": "c24e06fc",
   "metadata": {
    "scrolled": true
   },
   "outputs": [
    {
     "name": "stderr",
     "output_type": "stream",
     "text": [
      "INFO:sagemaker:Creating training-job with name: sagemaker-xgboost-2025-06-08-10-33-09-675\n"
     ]
    },
    {
     "name": "stdout",
     "output_type": "stream",
     "text": [
      "2025-06-08 10:33:09 Starting - Starting the training job...\n",
      "2025-06-08 10:33:29 Starting - Preparing the instances for training...\n",
      "2025-06-08 10:33:51 Downloading - Downloading input data...\n",
      "2025-06-08 10:34:21 Downloading - Downloading the training image......\n",
      "2025-06-08 10:35:22 Training - Training image download completed. Training in progress...\u001b[34m[2025-06-08 10:35:30.370 ip-10-0-179-10.us-east-2.compute.internal:7 INFO utils.py:27] RULE_JOB_STOP_SIGNAL_FILENAME: None\u001b[0m\n",
      "\u001b[34m[2025-06-08:10:35:30:INFO] Imported framework sagemaker_xgboost_container.training\u001b[0m\n",
      "\u001b[34m[2025-06-08:10:35:30:INFO] Failed to parse hyperparameter objective value multi:softprob to Json.\u001b[0m\n",
      "\u001b[34mReturning the value itself\u001b[0m\n",
      "\u001b[34m[2025-06-08:10:35:30:INFO] No GPUs detected (normal if no gpus installed)\u001b[0m\n",
      "\u001b[34m[2025-06-08:10:35:30:INFO] Running XGBoost Sagemaker in algorithm mode\u001b[0m\n",
      "\u001b[34m[2025-06-08:10:35:30:INFO] Determined delimiter of CSV input is ','\u001b[0m\n",
      "\u001b[34m[2025-06-08:10:35:30:INFO] Determined delimiter of CSV input is ','\u001b[0m\n",
      "\u001b[34m[2025-06-08:10:35:30:INFO] Determined delimiter of CSV input is ','\u001b[0m\n",
      "\u001b[34m[2025-06-08:10:35:30:INFO] Determined delimiter of CSV input is ','\u001b[0m\n",
      "\u001b[34m[2025-06-08:10:35:30:INFO] Single node training.\u001b[0m\n",
      "\u001b[34m[2025-06-08:10:35:30:INFO] Train matrix has 69997 rows and 28 columns\u001b[0m\n",
      "\u001b[34m[2025-06-08:10:35:30:INFO] Validation matrix has 20000 rows\u001b[0m\n",
      "\u001b[34m[2025-06-08 10:35:30.663 ip-10-0-179-10.us-east-2.compute.internal:7 INFO json_config.py:91] Creating hook from json_config at /opt/ml/input/config/debughookconfig.json.\u001b[0m\n",
      "\u001b[34m[2025-06-08 10:35:30.664 ip-10-0-179-10.us-east-2.compute.internal:7 INFO hook.py:201] tensorboard_dir has not been set for the hook. SMDebug will not be exporting tensorboard summaries.\u001b[0m\n",
      "\u001b[34m[2025-06-08 10:35:30.664 ip-10-0-179-10.us-east-2.compute.internal:7 INFO profiler_config_parser.py:102] User has disabled profiler.\u001b[0m\n",
      "\u001b[34m[2025-06-08 10:35:30.665 ip-10-0-179-10.us-east-2.compute.internal:7 INFO hook.py:255] Saving to /opt/ml/output/tensors\u001b[0m\n",
      "\u001b[34m[2025-06-08 10:35:30.665 ip-10-0-179-10.us-east-2.compute.internal:7 INFO state_store.py:77] The checkpoint config file /opt/ml/input/config/checkpointconfig.json does not exist.\u001b[0m\n",
      "\u001b[34m[2025-06-08:10:35:30:INFO] Debug hook created from config\u001b[0m\n",
      "\u001b[34m[0]#011train-merror:0.54809#011validation-merror:0.56205\u001b[0m\n",
      "\u001b[34m[2025-06-08 10:35:32.098 ip-10-0-179-10.us-east-2.compute.internal:7 INFO hook.py:423] Monitoring the collections: metrics\u001b[0m\n",
      "\u001b[34m[2025-06-08 10:35:32.103 ip-10-0-179-10.us-east-2.compute.internal:7 INFO hook.py:486] Hook is writing from the hook with pid: 7\u001b[0m\n",
      "\u001b[34m[1]#011train-merror:0.52881#011validation-merror:0.54025\u001b[0m\n",
      "\u001b[34m[2]#011train-merror:0.51631#011validation-merror:0.53010\u001b[0m\n",
      "\u001b[34m[3]#011train-merror:0.50496#011validation-merror:0.52125\u001b[0m\n",
      "\u001b[34m[4]#011train-merror:0.49649#011validation-merror:0.51125\u001b[0m\n",
      "\u001b[34m[5]#011train-merror:0.49515#011validation-merror:0.51135\u001b[0m\n",
      "\u001b[34m[6]#011train-merror:0.49075#011validation-merror:0.50570\u001b[0m\n",
      "\u001b[34m[7]#011train-merror:0.48436#011validation-merror:0.50025\u001b[0m\n",
      "\u001b[34m[8]#011train-merror:0.47908#011validation-merror:0.49355\u001b[0m\n",
      "\u001b[34m[9]#011train-merror:0.47491#011validation-merror:0.48925\u001b[0m\n",
      "\u001b[34m[10]#011train-merror:0.47348#011validation-merror:0.48725\u001b[0m\n",
      "\u001b[34m[11]#011train-merror:0.47023#011validation-merror:0.48375\u001b[0m\n",
      "\u001b[34m[12]#011train-merror:0.46452#011validation-merror:0.47650\u001b[0m\n",
      "\u001b[34m[13]#011train-merror:0.45632#011validation-merror:0.46575\u001b[0m\n",
      "\u001b[34m[14]#011train-merror:0.45106#011validation-merror:0.46095\u001b[0m\n",
      "\u001b[34m[15]#011train-merror:0.44463#011validation-merror:0.45505\u001b[0m\n",
      "\u001b[34m[16]#011train-merror:0.44115#011validation-merror:0.45115\u001b[0m\n",
      "\u001b[34m[17]#011train-merror:0.43572#011validation-merror:0.44560\u001b[0m\n",
      "\u001b[34m[18]#011train-merror:0.43310#011validation-merror:0.44285\u001b[0m\n",
      "\u001b[34m[19]#011train-merror:0.42675#011validation-merror:0.43620\u001b[0m\n",
      "\u001b[34m[20]#011train-merror:0.41697#011validation-merror:0.42690\u001b[0m\n",
      "\u001b[34m[21]#011train-merror:0.40773#011validation-merror:0.41710\u001b[0m\n",
      "\u001b[34m[22]#011train-merror:0.39490#011validation-merror:0.40325\u001b[0m\n",
      "\u001b[34m[23]#011train-merror:0.38994#011validation-merror:0.39810\u001b[0m\n",
      "\u001b[34m[24]#011train-merror:0.38683#011validation-merror:0.39415\u001b[0m\n",
      "\u001b[34m[25]#011train-merror:0.37924#011validation-merror:0.38710\u001b[0m\n",
      "\u001b[34m[26]#011train-merror:0.37102#011validation-merror:0.37915\u001b[0m\n",
      "\u001b[34m[27]#011train-merror:0.36164#011validation-merror:0.36975\u001b[0m\n",
      "\u001b[34m[28]#011train-merror:0.35730#011validation-merror:0.36610\u001b[0m\n",
      "\u001b[34m[29]#011train-merror:0.35083#011validation-merror:0.36000\u001b[0m\n",
      "\u001b[34m[30]#011train-merror:0.34436#011validation-merror:0.35325\u001b[0m\n",
      "\u001b[34m[31]#011train-merror:0.33466#011validation-merror:0.34165\u001b[0m\n",
      "\u001b[34m[32]#011train-merror:0.32956#011validation-merror:0.33610\u001b[0m\n",
      "\u001b[34m[33]#011train-merror:0.32551#011validation-merror:0.33195\u001b[0m\n",
      "\u001b[34m[34]#011train-merror:0.31620#011validation-merror:0.32330\u001b[0m\n",
      "\u001b[34m[35]#011train-merror:0.31168#011validation-merror:0.31940\u001b[0m\n",
      "\u001b[34m[36]#011train-merror:0.30877#011validation-merror:0.31530\u001b[0m\n",
      "\u001b[34m[37]#011train-merror:0.30557#011validation-merror:0.31230\u001b[0m\n",
      "\u001b[34m[38]#011train-merror:0.29613#011validation-merror:0.30190\u001b[0m\n",
      "\u001b[34m[39]#011train-merror:0.29147#011validation-merror:0.29620\u001b[0m\n",
      "\u001b[34m[40]#011train-merror:0.28283#011validation-merror:0.28695\u001b[0m\n",
      "\u001b[34m[41]#011train-merror:0.27641#011validation-merror:0.28100\u001b[0m\n",
      "\u001b[34m[42]#011train-merror:0.27238#011validation-merror:0.27690\u001b[0m\n",
      "\u001b[34m[43]#011train-merror:0.26728#011validation-merror:0.27205\u001b[0m\n",
      "\u001b[34m[44]#011train-merror:0.26151#011validation-merror:0.26660\u001b[0m\n",
      "\u001b[34m[45]#011train-merror:0.25514#011validation-merror:0.25815\u001b[0m\n",
      "\u001b[34m[46]#011train-merror:0.25094#011validation-merror:0.25390\u001b[0m\n",
      "\u001b[34m[47]#011train-merror:0.24552#011validation-merror:0.24770\u001b[0m\n",
      "\u001b[34m[48]#011train-merror:0.24063#011validation-merror:0.24275\u001b[0m\n",
      "\u001b[34m[49]#011train-merror:0.23564#011validation-merror:0.23870\u001b[0m\n",
      "\u001b[34m[50]#011train-merror:0.23431#011validation-merror:0.23740\u001b[0m\n",
      "\u001b[34m[51]#011train-merror:0.22709#011validation-merror:0.23020\u001b[0m\n",
      "\u001b[34m[52]#011train-merror:0.22091#011validation-merror:0.22380\u001b[0m\n",
      "\u001b[34m[53]#011train-merror:0.21611#011validation-merror:0.21880\u001b[0m\n",
      "\u001b[34m[54]#011train-merror:0.20878#011validation-merror:0.21190\u001b[0m\n",
      "\u001b[34m[55]#011train-merror:0.20377#011validation-merror:0.20710\u001b[0m\n",
      "\u001b[34m[56]#011train-merror:0.20087#011validation-merror:0.20430\u001b[0m\n",
      "\u001b[34m[57]#011train-merror:0.19719#011validation-merror:0.20015\u001b[0m\n",
      "\u001b[34m[58]#011train-merror:0.19445#011validation-merror:0.19750\u001b[0m\n",
      "\u001b[34m[59]#011train-merror:0.19131#011validation-merror:0.19420\u001b[0m\n",
      "\u001b[34m[60]#011train-merror:0.18908#011validation-merror:0.19210\u001b[0m\n",
      "\u001b[34m[61]#011train-merror:0.18516#011validation-merror:0.18885\u001b[0m\n",
      "\u001b[34m[62]#011train-merror:0.18132#011validation-merror:0.18475\u001b[0m\n",
      "\u001b[34m[63]#011train-merror:0.17795#011validation-merror:0.18185\u001b[0m\n",
      "\u001b[34m[64]#011train-merror:0.17456#011validation-merror:0.17820\u001b[0m\n",
      "\u001b[34m[65]#011train-merror:0.17232#011validation-merror:0.17655\u001b[0m\n",
      "\u001b[34m[66]#011train-merror:0.16769#011validation-merror:0.17095\u001b[0m\n",
      "\u001b[34m[67]#011train-merror:0.16395#011validation-merror:0.16710\u001b[0m\n",
      "\u001b[34m[68]#011train-merror:0.16091#011validation-merror:0.16495\u001b[0m\n",
      "\u001b[34m[69]#011train-merror:0.15839#011validation-merror:0.16225\u001b[0m\n",
      "\u001b[34m[70]#011train-merror:0.15706#011validation-merror:0.16140\u001b[0m\n",
      "\u001b[34m[71]#011train-merror:0.15382#011validation-merror:0.15725\u001b[0m\n",
      "\u001b[34m[72]#011train-merror:0.15138#011validation-merror:0.15495\u001b[0m\n",
      "\u001b[34m[73]#011train-merror:0.14889#011validation-merror:0.15315\u001b[0m\n",
      "\u001b[34m[74]#011train-merror:0.14601#011validation-merror:0.14925\u001b[0m\n",
      "\u001b[34m[75]#011train-merror:0.14246#011validation-merror:0.14550\u001b[0m\n",
      "\u001b[34m[76]#011train-merror:0.13822#011validation-merror:0.14125\u001b[0m\n",
      "\u001b[34m[77]#011train-merror:0.13733#011validation-merror:0.14060\u001b[0m\n",
      "\u001b[34m[78]#011train-merror:0.13628#011validation-merror:0.13935\u001b[0m\n",
      "\u001b[34m[79]#011train-merror:0.13438#011validation-merror:0.13840\u001b[0m\n",
      "\u001b[34m[80]#011train-merror:0.13035#011validation-merror:0.13430\u001b[0m\n",
      "\u001b[34m[81]#011train-merror:0.12919#011validation-merror:0.13325\u001b[0m\n",
      "\u001b[34m[82]#011train-merror:0.12453#011validation-merror:0.12970\u001b[0m\n",
      "\u001b[34m[83]#011train-merror:0.12369#011validation-merror:0.12905\u001b[0m\n",
      "\u001b[34m[84]#011train-merror:0.12163#011validation-merror:0.12690\u001b[0m\n",
      "\u001b[34m[85]#011train-merror:0.12063#011validation-merror:0.12595\u001b[0m\n",
      "\u001b[34m[86]#011train-merror:0.11888#011validation-merror:0.12405\u001b[0m\n",
      "\u001b[34m[87]#011train-merror:0.11849#011validation-merror:0.12330\u001b[0m\n",
      "\u001b[34m[88]#011train-merror:0.11685#011validation-merror:0.12215\u001b[0m\n",
      "\u001b[34m[89]#011train-merror:0.11521#011validation-merror:0.12095\u001b[0m\n",
      "\u001b[34m[90]#011train-merror:0.11383#011validation-merror:0.11945\u001b[0m\n",
      "\u001b[34m[91]#011train-merror:0.11163#011validation-merror:0.11725\u001b[0m\n",
      "\u001b[34m[92]#011train-merror:0.11035#011validation-merror:0.11615\u001b[0m\n",
      "\u001b[34m[93]#011train-merror:0.10860#011validation-merror:0.11480\u001b[0m\n",
      "\u001b[34m[94]#011train-merror:0.10619#011validation-merror:0.11245\u001b[0m\n",
      "\u001b[34m[95]#011train-merror:0.10453#011validation-merror:0.11095\u001b[0m\n",
      "\u001b[34m[96]#011train-merror:0.10273#011validation-merror:0.10900\u001b[0m\n",
      "\u001b[34m[97]#011train-merror:0.10186#011validation-merror:0.10835\u001b[0m\n",
      "\u001b[34m[98]#011train-merror:0.10068#011validation-merror:0.10740\u001b[0m\n",
      "\u001b[34m[99]#011train-merror:0.09996#011validation-merror:0.10595\u001b[0m\n",
      "\n",
      "2025-06-08 10:38:01 Uploading - Uploading generated training model\n",
      "2025-06-08 10:38:01 Completed - Training job completed\n",
      "Training seconds: 250\n",
      "Billable seconds: 250\n"
     ]
    }
   ],
   "source": [
    "xgb.fit({\"train\": s3_input_train, \"validation\": s3_input_validation})"
   ]
  },
  {
   "cell_type": "markdown",
   "id": "eba80f0d",
   "metadata": {},
   "source": [
    "## MLRun"
   ]
  },
  {
   "cell_type": "markdown",
   "id": "8b716cd7",
   "metadata": {},
   "source": [
    "### 5. Using the endpoint <a class=\"anchor\" id=\"Using-the-endpoint\"></a>\n",
    "\n",
    "Deploy the model to an endpoint"
   ]
  },
  {
   "cell_type": "code",
   "execution_count": 1,
   "id": "607aac20-69f9-4b12-a445-64886f5bad6b",
   "metadata": {},
   "outputs": [],
   "source": [
    "import mlrun"
   ]
  },
  {
   "cell_type": "markdown",
   "id": "d0bfe4a6",
   "metadata": {},
   "source": [
    "Install packages"
   ]
  },
  {
   "cell_type": "code",
   "execution_count": null,
   "id": "4186a8be",
   "metadata": {},
   "outputs": [],
   "source": [
    "%pip install graphviz xgboost"
   ]
  },
  {
   "cell_type": "code",
   "execution_count": null,
   "id": "ded8301b-2523-4ad7-bba2-30e0ca748253",
   "metadata": {},
   "outputs": [],
   "source": [
    "project = mlrun.get_or_create_project(\n",
    "    name=\"sagemaker\", \n",
    "    user_project=True,\n",
    "    parameters={\n",
    "        # \"source\" : \"git://github.com/mlrun/demo-sagemaker#main\",\n",
    "    }\n",
    ")"
   ]
  },
  {
   "cell_type": "code",
   "execution_count": 4,
   "id": "fcb620d5-0697-4860-adc3-2696a9e1fa66",
   "metadata": {},
   "outputs": [],
   "source": [
    "serving_function = project.get_function(\"serving\")"
   ]
  },
  {
   "cell_type": "code",
   "execution_count": 5,
   "id": "e1b53d0c-baee-45f3-be07-6c02af75a6c8",
   "metadata": {},
   "outputs": [
    {
     "data": {
      "image/svg+xml": [
       "<?xml version=\"1.0\" encoding=\"UTF-8\" standalone=\"no\"?>\n",
       "<!DOCTYPE svg PUBLIC \"-//W3C//DTD SVG 1.1//EN\"\n",
       " \"http://www.w3.org/Graphics/SVG/1.1/DTD/svg11.dtd\">\n",
       "<!-- Generated by graphviz version 2.43.0 (0)\n",
       " -->\n",
       "<!-- Title: mlrun&#45;flow Pages: 1 -->\n",
       "<svg width=\"440pt\" height=\"44pt\"\n",
       " viewBox=\"0.00 0.00 440.47 44.00\" xmlns=\"http://www.w3.org/2000/svg\" xmlns:xlink=\"http://www.w3.org/1999/xlink\">\n",
       "<g id=\"graph0\" class=\"graph\" transform=\"scale(1 1) rotate(0) translate(4 40)\">\n",
       "<title>mlrun&#45;flow</title>\n",
       "<polygon fill=\"white\" stroke=\"transparent\" points=\"-4,4 -4,-40 436.47,-40 436.47,4 -4,4\"/>\n",
       "<!-- _start -->\n",
       "<g id=\"node1\" class=\"node\">\n",
       "<title>_start</title>\n",
       "<polygon fill=\"lightgrey\" stroke=\"black\" points=\"38.55,-0.05 40.7,-0.15 42.83,-0.3 44.92,-0.49 46.98,-0.74 48.99,-1.03 50.95,-1.36 52.84,-1.75 54.66,-2.18 56.4,-2.65 58.06,-3.16 59.63,-3.71 61.11,-4.31 62.49,-4.94 63.76,-5.61 64.93,-6.31 65.99,-7.04 66.93,-7.8 67.77,-8.59 68.48,-9.41 69.09,-10.25 69.58,-11.11 69.95,-11.99 70.21,-12.89 70.36,-13.8 70.4,-14.72 70.33,-15.65 70.16,-16.59 69.89,-17.53 69.53,-18.47 69.07,-19.41 68.52,-20.35 67.89,-21.28 67.18,-22.2 66.4,-23.11 65.55,-24.01 64.63,-24.89 63.65,-25.75 62.62,-26.59 61.53,-27.41 60.4,-28.2 59.23,-28.96 58.02,-29.69 56.78,-30.39 55.5,-31.06 54.2,-31.69 52.88,-32.29 51.53,-32.84 50.17,-33.35 48.79,-33.82 47.4,-34.25 46,-34.64 44.59,-34.97 43.17,-35.26 41.75,-35.51 40.32,-35.7 38.89,-35.85 37.45,-35.95 36.02,-36 34.58,-36 33.15,-35.95 31.71,-35.85 30.28,-35.7 28.85,-35.51 27.43,-35.26 26.01,-34.97 24.6,-34.64 23.2,-34.25 21.81,-33.82 20.43,-33.35 19.07,-32.84 17.72,-32.29 16.4,-31.69 15.1,-31.06 13.82,-30.39 12.58,-29.69 11.37,-28.96 10.2,-28.2 9.07,-27.41 7.98,-26.59 6.95,-25.75 5.97,-24.89 5.05,-24.01 4.2,-23.11 3.42,-22.2 2.71,-21.28 2.08,-20.35 1.53,-19.41 1.07,-18.47 0.71,-17.53 0.44,-16.59 0.27,-15.65 0.2,-14.72 0.24,-13.8 0.39,-12.89 0.65,-11.99 1.02,-11.11 1.51,-10.25 2.11,-9.41 2.83,-8.59 3.66,-7.8 4.61,-7.04 5.67,-6.31 6.84,-5.61 8.11,-4.94 9.49,-4.31 10.97,-3.71 12.54,-3.16 14.2,-2.65 15.94,-2.18 17.76,-1.75 19.65,-1.36 21.61,-1.03 23.62,-0.74 25.68,-0.49 27.77,-0.3 29.9,-0.15 32.05,-0.05 34.22,0 36.38,0 38.55,-0.05\"/>\n",
       "<text text-anchor=\"middle\" x=\"35.3\" y=\"-14.3\" font-family=\"Times,serif\" font-size=\"14.00\">start</text>\n",
       "</g>\n",
       "<!-- xgboost&#45;model -->\n",
       "<g id=\"node2\" class=\"node\">\n",
       "<title>xgboost&#45;model</title>\n",
       "<ellipse fill=\"none\" stroke=\"black\" cx=\"185.24\" cy=\"-18\" rx=\"78.79\" ry=\"18\"/>\n",
       "<text text-anchor=\"middle\" x=\"185.24\" y=\"-14.3\" font-family=\"Times,serif\" font-size=\"14.00\">xgboost&#45;model</text>\n",
       "</g>\n",
       "<!-- _start&#45;&gt;xgboost&#45;model -->\n",
       "<g id=\"edge1\" class=\"edge\">\n",
       "<title>_start&#45;&gt;xgboost&#45;model</title>\n",
       "<path fill=\"none\" stroke=\"black\" d=\"M69.87,-18C77.95,-18 86.95,-18 96.26,-18\"/>\n",
       "<polygon fill=\"black\" stroke=\"black\" points=\"96.45,-21.5 106.45,-18 96.45,-14.5 96.45,-21.5\"/>\n",
       "</g>\n",
       "<!-- postprocess -->\n",
       "<g id=\"node3\" class=\"node\">\n",
       "<title>postprocess</title>\n",
       "<ellipse fill=\"none\" stroke=\"black\" cx=\"366.18\" cy=\"-18\" rx=\"66.09\" ry=\"18\"/>\n",
       "<text text-anchor=\"middle\" x=\"366.18\" y=\"-14.3\" font-family=\"Times,serif\" font-size=\"14.00\">postprocess</text>\n",
       "</g>\n",
       "<!-- xgboost&#45;model&#45;&gt;postprocess -->\n",
       "<g id=\"edge2\" class=\"edge\">\n",
       "<title>xgboost&#45;model&#45;&gt;postprocess</title>\n",
       "<path fill=\"none\" stroke=\"black\" d=\"M263.95,-18C272.46,-18 281.12,-18 289.61,-18\"/>\n",
       "<polygon fill=\"black\" stroke=\"black\" points=\"289.86,-21.5 299.86,-18 289.86,-14.5 289.86,-21.5\"/>\n",
       "</g>\n",
       "</g>\n",
       "</svg>\n"
      ],
      "text/plain": [
       "<graphviz.graphs.Digraph at 0x7f1ceb327700>"
      ]
     },
     "execution_count": 5,
     "metadata": {},
     "output_type": "execute_result"
    }
   ],
   "source": [
    "# Set the topology and get the graph object:\n",
    "graph = serving_function.set_topology(\"flow\", engine=\"async\")\n",
    "\n",
    "# Add the steps:\n",
    "graph.to(\"XGBModelServer\",\n",
    "         name=\"xgboost-model\",\n",
    "         model_path=xgb.model_data) \\\n",
    "     .to(handler=\"postprocess\", name=\"postprocess\").respond()\n",
    "\n",
    "# Plot to graph:\n",
    "serving_function.plot(rankdir='LR')"
   ]
  },
  {
   "cell_type": "code",
   "execution_count": 6,
   "id": "2963f0b2-5169-4138-aefb-cef8813b0e0e",
   "metadata": {
    "scrolled": true
   },
   "outputs": [
    {
     "name": "stdout",
     "output_type": "stream",
     "text": [
      "> 2025-06-08 11:20:53,118 [info] model xgboost-model was loaded\n"
     ]
    }
   ],
   "source": [
    "server = serving_function.to_mock_server()"
   ]
  },
  {
   "cell_type": "code",
   "execution_count": 16,
   "id": "ffa8dda2-ce3d-459c-8a93-f7ebaee7b7f8",
   "metadata": {},
   "outputs": [],
   "source": [
    "samples = test_data.drop('transaction_category',axis=1)[:500].values.tolist()"
   ]
  },
  {
   "cell_type": "code",
   "execution_count": 26,
   "id": "5b1f27eb-a2a0-457e-9291-4b61d40e4d0c",
   "metadata": {
    "scrolled": true
   },
   "outputs": [
    {
     "name": "stdout",
     "output_type": "stream",
     "text": [
      "{'id': '92e7248f8be14de385e8500800cc0e25', 'model_name': 'xgboost-model', 'outputs': [[0.0007616980583406985, 0.2163267731666565, 0.0011443813564255834, 0.18396155536174774, 0.001069405348971486, 0.009186582639813423, 0.01172403059899807, 0.026581548154354095, 9.336806397186592e-05, 0.004078075289726257, 0.026911571621894836, 0.018409093841910362, 0.0002685308863874525, 0.001377236912958324, 0.0029461283702403307, 0.003738432191312313, 0.00019936829630751163, 0.18349666893482208, 0.30772554874420166], [0.03150968253612518, 0.38922181725502014, 0.0037406575866043568, 0.14729824662208557, 0.007513809483498335, 0.09391208738088608, 0.05491333454847336, 0.01048803050071001, 0.00019891421834472567, 0.021363122388720512, 0.06042623892426491, 0.15260998904705048, 0.0008524527074769139, 0.0035811050329357386, 0.00611218623816967, 0.008508232422173023, 0.0002245906216558069, 0.006553204730153084, 0.0009723104885779321], [0.0003615218447521329, 0.0022154159378260374, 0.009100242517888546, 0.02450457029044628, 0.00057491275947541, 0.007785419467836618, 0.008427230641245842, 0.0012252827873453498, 0.05449189990758896, 0.032158561050891876, 0.03039877861738205, 0.7755448818206787, 0.00024003717408049852, 0.010109196417033672, 0.016291145235300064, 0.008678139187395573, 0.0004408021632116288, 0.015266788192093372, 0.0021852434147149324], [0.00028422570903785527, 0.0021755711641162634, 0.11627797037363052, 0.5511831045150757, 5.167708150111139e-05, 0.009848476387560368, 0.007273215800523758, 0.0005734239239245653, 0.00014376582112163305, 0.010931846685707569, 0.021902034059166908, 0.0045556919649243355, 4.151368193561211e-05, 0.0011963200522586703, 0.0013180773239582777, 0.001288150204345584, 0.0006860254216007888, 0.2700905501842499, 0.0001784037158358842], [0.017401767894625664, 0.38383692502975464, 0.0005070173065178096, 0.2670343220233917, 6.249472789932042e-05, 0.09547395259141922, 0.02797238901257515, 0.015956800431013107, 0.00011317110329400748, 0.0019013358978554606, 0.02958662062883377, 0.00946750771254301, 0.00039086147444322705, 0.00041543314000591636, 0.012530297040939331, 0.0022057376336306334, 0.0002532316430006176, 0.08795367926359177, 0.04693649336695671]], 'timestamp': '2025-06-08 11:13:38.938368+00:00'}\n",
      "[18, 1, 11, 3, 1]\n"
     ]
    }
   ],
   "source": [
    "response = server.test(body={\"inputs\": samples[:5]})\n",
    "print(response['predictions'])"
   ]
  },
  {
   "cell_type": "code",
   "execution_count": 34,
   "id": "2fb3e6e1-c945-40ef-b9b5-b050dca7dbef",
   "metadata": {},
   "outputs": [],
   "source": [
    "cleaned = [x[:-1] for x in samples]"
   ]
  },
  {
   "cell_type": "code",
   "execution_count": 35,
   "id": "07b283fa-8922-4247-91fc-d65ee7438b2b",
   "metadata": {},
   "outputs": [
    {
     "data": {
      "text/plain": [
       "[[4630518417004166, 4898290331783278, 67.18],\n",
       " [4558837548430191, 4999724238882617, 20.14]]"
      ]
     },
     "execution_count": 35,
     "metadata": {},
     "output_type": "execute_result"
    }
   ],
   "source": [
    "cleaned[:2]"
   ]
  },
  {
   "cell_type": "code",
   "execution_count": null,
   "id": "815fd915-e8ff-455a-a16b-dbf470f8d825",
   "metadata": {},
   "outputs": [],
   "source": [
    "project.deploy_function(\"serving\")"
   ]
  },
  {
   "cell_type": "code",
   "execution_count": 49,
   "id": "0bd727dc-7243-4d0c-94b7-91dcaeca3fae",
   "metadata": {},
   "outputs": [],
   "source": [
    "import json\n",
    "response = serving_function.invoke(path='/predict', body={\"inputs\": [x[:-1] for x in samples]})"
   ]
  },
  {
   "cell_type": "code",
   "execution_count": 50,
   "id": "b6e22e08-9fa3-4fc9-a084-652edf9fdfb7",
   "metadata": {},
   "outputs": [
    {
     "name": "stdout",
     "output_type": "stream",
     "text": [
      "[17, 3, 11, 3, 3, 3, 3, 5, 3, 3]\n"
     ]
    }
   ],
   "source": [
    "print(response['predictions'][:10])"
   ]
  },
  {
   "cell_type": "markdown",
   "id": "7a93919f-da79-455c-a8c2-eab5deece6d9",
   "metadata": {},
   "source": [
    "### 6. Evaluate performance <a class=\"anchor\" id=\"Evaluate-performance\"></a>\n",
    "\n",
    "Run the model on our test data"
   ]
  },
  {
   "cell_type": "code",
   "execution_count": 51,
   "id": "6b6a92c2-09f2-4e4a-9c3a-1c005e231d1b",
   "metadata": {},
   "outputs": [],
   "source": [
    "s3_data = \"s3://{}/{}/test/test.csv\".format(s3_bucket, bucket_prefix)"
   ]
  },
  {
   "cell_type": "code",
   "execution_count": 52,
   "id": "84c6a5b7",
   "metadata": {},
   "outputs": [],
   "source": [
    "evaluate_function = project.get_function(\"evaluate\")"
   ]
  },
  {
   "cell_type": "code",
   "execution_count": null,
   "id": "cdb2def1-c771-4757-a581-41c0014f2678",
   "metadata": {},
   "outputs": [],
   "source": [
    "xgb.model_data"
   ]
  },
  {
   "cell_type": "code",
   "execution_count": null,
   "id": "fe92026c-c9e3-4e06-8b75-894db62f8f6a",
   "metadata": {},
   "outputs": [],
   "source": [
    "s3_data"
   ]
  },
  {
   "cell_type": "code",
   "execution_count": null,
   "id": "62b14992-24db-4be2-bcb3-dbd115fa7544",
   "metadata": {
    "scrolled": true
   },
   "outputs": [],
   "source": [
    "evaluate_run = evaluate_function.run(\n",
    "    handler=\"evaluate\",\n",
    "    params={\n",
    "        \"model_path\": xgb.model_data,\n",
    "        \"model_name\": \"xgboost-model\",\n",
    "        \"test_set\": s3_data,\n",
    "        \"label_column\": \"transaction_category\",\n",
    "        \"factorize_key\": factorize_key,\n",
    "    },\n",
    "    returns=[\"classification_report: dataset\"])"
   ]
  },
  {
   "cell_type": "code",
   "execution_count": 43,
   "id": "a40da196-0ee8-4ac6-9f7b-bea35ab181c9",
   "metadata": {},
   "outputs": [
    {
     "data": {
      "text/html": [
       "<div>\n",
       "<style scoped>\n",
       "    .dataframe tbody tr th:only-of-type {\n",
       "        vertical-align: middle;\n",
       "    }\n",
       "\n",
       "    .dataframe tbody tr th {\n",
       "        vertical-align: top;\n",
       "    }\n",
       "\n",
       "    .dataframe thead th {\n",
       "        text-align: right;\n",
       "    }\n",
       "</style>\n",
       "<table border=\"1\" class=\"dataframe\">\n",
       "  <thead>\n",
       "    <tr style=\"text-align: right;\">\n",
       "      <th></th>\n",
       "      <th>precision</th>\n",
       "      <th>recall</th>\n",
       "      <th>f1-score</th>\n",
       "      <th>support</th>\n",
       "    </tr>\n",
       "  </thead>\n",
       "  <tbody>\n",
       "    <tr>\n",
       "      <th>Uncategorized</th>\n",
       "      <td>1.000000</td>\n",
       "      <td>0.921569</td>\n",
       "      <td>0.959184</td>\n",
       "      <td>51.000</td>\n",
       "    </tr>\n",
       "    <tr>\n",
       "      <th>Entertainment</th>\n",
       "      <td>0.795745</td>\n",
       "      <td>0.880888</td>\n",
       "      <td>0.836155</td>\n",
       "      <td>1486.000</td>\n",
       "    </tr>\n",
       "    <tr>\n",
       "      <th>Education</th>\n",
       "      <td>1.000000</td>\n",
       "      <td>0.937500</td>\n",
       "      <td>0.967742</td>\n",
       "      <td>80.000</td>\n",
       "    </tr>\n",
       "    <tr>\n",
       "      <th>Shopping</th>\n",
       "      <td>0.848892</td>\n",
       "      <td>0.935484</td>\n",
       "      <td>0.890087</td>\n",
       "      <td>3441.000</td>\n",
       "    </tr>\n",
       "    <tr>\n",
       "      <th>Personal Care</th>\n",
       "      <td>1.000000</td>\n",
       "      <td>0.984848</td>\n",
       "      <td>0.992366</td>\n",
       "      <td>132.000</td>\n",
       "    </tr>\n",
       "    <tr>\n",
       "      <th>Health and Fitness</th>\n",
       "      <td>0.987864</td>\n",
       "      <td>0.918736</td>\n",
       "      <td>0.952047</td>\n",
       "      <td>443.000</td>\n",
       "    </tr>\n",
       "    <tr>\n",
       "      <th>Food and Dining</th>\n",
       "      <td>0.989542</td>\n",
       "      <td>0.824619</td>\n",
       "      <td>0.899584</td>\n",
       "      <td>918.000</td>\n",
       "    </tr>\n",
       "    <tr>\n",
       "      <th>Gifts and Donations</th>\n",
       "      <td>0.996169</td>\n",
       "      <td>0.945455</td>\n",
       "      <td>0.970149</td>\n",
       "      <td>275.000</td>\n",
       "    </tr>\n",
       "    <tr>\n",
       "      <th>Investments</th>\n",
       "      <td>0.988235</td>\n",
       "      <td>0.954545</td>\n",
       "      <td>0.971098</td>\n",
       "      <td>88.000</td>\n",
       "    </tr>\n",
       "    <tr>\n",
       "      <th>Bills and Utilities</th>\n",
       "      <td>0.996979</td>\n",
       "      <td>0.993976</td>\n",
       "      <td>0.995475</td>\n",
       "      <td>332.000</td>\n",
       "    </tr>\n",
       "    <tr>\n",
       "      <th>Auto and Transport</th>\n",
       "      <td>0.938012</td>\n",
       "      <td>0.815455</td>\n",
       "      <td>0.872450</td>\n",
       "      <td>1967.000</td>\n",
       "    </tr>\n",
       "    <tr>\n",
       "      <th>Travel</th>\n",
       "      <td>0.952381</td>\n",
       "      <td>0.833333</td>\n",
       "      <td>0.888889</td>\n",
       "      <td>120.000</td>\n",
       "    </tr>\n",
       "    <tr>\n",
       "      <th>Fees and Charges</th>\n",
       "      <td>1.000000</td>\n",
       "      <td>0.952830</td>\n",
       "      <td>0.975845</td>\n",
       "      <td>106.000</td>\n",
       "    </tr>\n",
       "    <tr>\n",
       "      <th>Business Services</th>\n",
       "      <td>1.000000</td>\n",
       "      <td>0.993151</td>\n",
       "      <td>0.996564</td>\n",
       "      <td>146.000</td>\n",
       "    </tr>\n",
       "    <tr>\n",
       "      <th>Personal Services</th>\n",
       "      <td>1.000000</td>\n",
       "      <td>0.960000</td>\n",
       "      <td>0.979592</td>\n",
       "      <td>75.000</td>\n",
       "    </tr>\n",
       "    <tr>\n",
       "      <th>Taxes</th>\n",
       "      <td>1.000000</td>\n",
       "      <td>0.936170</td>\n",
       "      <td>0.967033</td>\n",
       "      <td>47.000</td>\n",
       "    </tr>\n",
       "    <tr>\n",
       "      <th>Gambling</th>\n",
       "      <td>1.000000</td>\n",
       "      <td>1.000000</td>\n",
       "      <td>1.000000</td>\n",
       "      <td>15.000</td>\n",
       "    </tr>\n",
       "    <tr>\n",
       "      <th>Home</th>\n",
       "      <td>0.980519</td>\n",
       "      <td>0.898810</td>\n",
       "      <td>0.937888</td>\n",
       "      <td>168.000</td>\n",
       "    </tr>\n",
       "    <tr>\n",
       "      <th>Pension and insurances</th>\n",
       "      <td>0.990991</td>\n",
       "      <td>1.000000</td>\n",
       "      <td>0.995475</td>\n",
       "      <td>110.000</td>\n",
       "    </tr>\n",
       "    <tr>\n",
       "      <th>accuracy</th>\n",
       "      <td>0.896000</td>\n",
       "      <td>0.896000</td>\n",
       "      <td>0.896000</td>\n",
       "      <td>0.896</td>\n",
       "    </tr>\n",
       "    <tr>\n",
       "      <th>macro avg</th>\n",
       "      <td>0.971859</td>\n",
       "      <td>0.930914</td>\n",
       "      <td>0.949875</td>\n",
       "      <td>10000.000</td>\n",
       "    </tr>\n",
       "    <tr>\n",
       "      <th>weighted avg</th>\n",
       "      <td>0.902654</td>\n",
       "      <td>0.896000</td>\n",
       "      <td>0.896567</td>\n",
       "      <td>10000.000</td>\n",
       "    </tr>\n",
       "  </tbody>\n",
       "</table>\n",
       "</div>"
      ],
      "text/plain": [
       "                        precision    recall  f1-score    support\n",
       "Uncategorized            1.000000  0.921569  0.959184     51.000\n",
       "Entertainment            0.795745  0.880888  0.836155   1486.000\n",
       "Education                1.000000  0.937500  0.967742     80.000\n",
       "Shopping                 0.848892  0.935484  0.890087   3441.000\n",
       "Personal Care            1.000000  0.984848  0.992366    132.000\n",
       "Health and Fitness       0.987864  0.918736  0.952047    443.000\n",
       "Food and Dining          0.989542  0.824619  0.899584    918.000\n",
       "Gifts and Donations      0.996169  0.945455  0.970149    275.000\n",
       "Investments              0.988235  0.954545  0.971098     88.000\n",
       "Bills and Utilities      0.996979  0.993976  0.995475    332.000\n",
       "Auto and Transport       0.938012  0.815455  0.872450   1967.000\n",
       "Travel                   0.952381  0.833333  0.888889    120.000\n",
       "Fees and Charges         1.000000  0.952830  0.975845    106.000\n",
       "Business Services        1.000000  0.993151  0.996564    146.000\n",
       "Personal Services        1.000000  0.960000  0.979592     75.000\n",
       "Taxes                    1.000000  0.936170  0.967033     47.000\n",
       "Gambling                 1.000000  1.000000  1.000000     15.000\n",
       "Home                     0.980519  0.898810  0.937888    168.000\n",
       "Pension and insurances   0.990991  1.000000  0.995475    110.000\n",
       "accuracy                 0.896000  0.896000  0.896000      0.896\n",
       "macro avg                0.971859  0.930914  0.949875  10000.000\n",
       "weighted avg             0.902654  0.896000  0.896567  10000.000"
      ]
     },
     "execution_count": 43,
     "metadata": {},
     "output_type": "execute_result"
    }
   ],
   "source": [
    "evaluate_run.artifact(\"classification_report\").as_df()"
   ]
  },
  {
   "cell_type": "markdown",
   "id": "98d0b67e",
   "metadata": {},
   "source": [
    "You should see results similar to this:\n",
    "\n",
    "```\n",
    "                        precision    recall  f1-score   support\n",
    "\n",
    "         Uncategorized       1.00      0.92      0.96        51\n",
    "         Entertainment       0.81      0.89      0.85      1486\n",
    "             Education       1.00      0.94      0.97        80\n",
    "              Shopping       0.86      0.94      0.90      3441\n",
    "         Personal Care       1.00      0.98      0.99       132\n",
    "    Health and Fitness       0.99      0.89      0.94       443\n",
    "       Food and Dining       0.99      0.82      0.90       918\n",
    "   Gifts and Donations       1.00      0.95      0.97       275\n",
    "           Investments       0.99      0.97      0.98        88\n",
    "   Bills and Utilities       1.00      0.99      1.00       332\n",
    "    Auto and Transport       0.94      0.84      0.88      1967\n",
    "                Travel       0.96      0.84      0.90       120\n",
    "      Fees and Charges       1.00      0.94      0.97       106\n",
    "     Business Services       1.00      0.99      1.00       146\n",
    "     Personal Services       1.00      0.96      0.98        75\n",
    "                 Taxes       0.98      0.94      0.96        47\n",
    "              Gambling       1.00      1.00      1.00        15\n",
    "                  Home       0.98      0.89      0.93       168\n",
    "Pension and insurances       0.99      1.00      1.00       110\n",
    "\n",
    "              accuracy                           0.90     10000\n",
    "             macro avg       0.97      0.93      0.95     10000\n",
    "          weighted avg       0.91      0.90      0.90     10000\n",
    "```"
   ]
  },
  {
   "cell_type": "markdown",
   "id": "49fdc82d",
   "metadata": {},
   "source": [
    "### 7. Clean up <a class=\"anchor\" id=\"Clean-up\"></a>\n",
    "\n",
    "Remove the feature group and endpoint to clean up"
   ]
  },
  {
   "cell_type": "code",
   "execution_count": null,
   "id": "f79b1164",
   "metadata": {},
   "outputs": [],
   "source": [
    "feature_group.delete()\n",
    "# xgb_predictor.delete_endpoint(delete_endpoint_config=True)"
   ]
  },
  {
   "cell_type": "code",
   "execution_count": null,
   "id": "a4142591-d249-45f6-a9fb-99bc39abc60c",
   "metadata": {},
   "outputs": [],
   "source": []
  }
 ],
 "metadata": {
  "instance_type": "ml.t3.medium",
  "kernelspec": {
   "display_name": "mlrun-base",
   "language": "python",
   "name": "conda-env-mlrun-base-py"
  },
  "language_info": {
   "codemirror_mode": {
    "name": "ipython",
    "version": 3
   },
   "file_extension": ".py",
   "mimetype": "text/x-python",
   "name": "python",
   "nbconvert_exporter": "python",
   "pygments_lexer": "ipython3",
   "version": "3.9.18"
  }
 },
 "nbformat": 4,
 "nbformat_minor": 5
}
